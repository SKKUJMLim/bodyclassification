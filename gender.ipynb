{
 "cells": [
  {
   "cell_type": "code",
   "execution_count": 69,
   "id": "ca55779b-60a7-4157-b880-2a8cd4fa6bc8",
   "metadata": {},
   "outputs": [
    {
     "name": "stdout",
     "output_type": "stream",
     "text": [
      "Requirement already satisfied: pyyaml in c:\\users\\jm\\anaconda3\\envs\\bodyclassification\\lib\\site-packages (6.0.1)\n"
     ]
    }
   ],
   "source": [
    "!pip install pyyaml"
   ]
  },
  {
   "cell_type": "code",
   "execution_count": 70,
   "id": "677417f1-b6f7-4a82-ab1d-bd2eb1236bab",
   "metadata": {},
   "outputs": [
    {
     "name": "stdout",
     "output_type": "stream",
     "text": [
      "<class 'pandas.core.frame.DataFrame'>\n",
      "RangeIndex: 200 entries, 0 to 199\n",
      "Data columns (total 2 columns):\n",
      " #   Column   Non-Null Count  Dtype \n",
      "---  ------   --------------  ----- \n",
      " 0   SUBJECT  200 non-null    int64 \n",
      " 1   SEX      200 non-null    object\n",
      "dtypes: int64(1), object(1)\n",
      "memory usage: 3.2+ KB\n"
     ]
    }
   ],
   "source": [
    "# pandas\n",
    "import pandas as pd\n",
    "import yaml\n",
    "# data\n",
    "df = pd.read_csv('Somatotype data - final_data.csv', usecols=[\"SUBJECT\", \"SEX\"] , encoding='cp949')\n",
    "df.info()"
   ]
  },
  {
   "cell_type": "code",
   "execution_count": 81,
   "id": "00af8ceb-ebf5-47da-b8fd-8d6b2f5e3b68",
   "metadata": {},
   "outputs": [],
   "source": [
    "gender = {}\n",
    "\n",
    "for index, sex in df.values:\n",
    "    if sex == 'M':\n",
    "        gender['\\\"img_%03d\\\"'%int(index)] = '\\\"male\\\"'\n",
    "    else:\n",
    "        gender['\\\"img_%03d\\\"'%int(index)] = '\\\"female\\\"'\n",
    "    "
   ]
  },
  {
   "cell_type": "code",
   "execution_count": 82,
   "id": "896e1946-e82c-4a90-91fa-609d4fbe9357",
   "metadata": {},
   "outputs": [],
   "source": [
    "with open('genders.yaml', 'w') as f:\n",
    "    yaml.dump(gender, f)"
   ]
  }
 ],
 "metadata": {
  "kernelspec": {
   "display_name": "Python 3 (ipykernel)",
   "language": "python",
   "name": "python3"
  },
  "language_info": {
   "codemirror_mode": {
    "name": "ipython",
    "version": 3
   },
   "file_extension": ".py",
   "mimetype": "text/x-python",
   "name": "python",
   "nbconvert_exporter": "python",
   "pygments_lexer": "ipython3",
   "version": "3.8.18"
  }
 },
 "nbformat": 4,
 "nbformat_minor": 5
}
