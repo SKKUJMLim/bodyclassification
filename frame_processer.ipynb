{
 "cells": [
  {
   "cell_type": "code",
   "execution_count": 92,
   "id": "bb0075ac-5d6f-415f-b00b-a649d03b8dc3",
   "metadata": {},
   "outputs": [],
   "source": [
    "import os\n",
    "import cv2\n",
    "import numpy as np\n",
    "import matplotlib.pyplot as plt"
   ]
  },
  {
   "cell_type": "code",
   "execution_count": 93,
   "id": "15f20e2b-053f-49ec-934a-dc251a9043d2",
   "metadata": {},
   "outputs": [],
   "source": [
    "def center_crop(img, set_size):\n",
    "\n",
    "    h, w, c = img.shape\n",
    "\n",
    "    if set_size > min(h, w):\n",
    "        return img\n",
    "\n",
    "    crop_width = set_size\n",
    "    crop_height = set_size\n",
    "\n",
    "    mid_x, mid_y = w//2, h//2\n",
    "    offset_x, offset_y = crop_width//2, crop_height//2\n",
    "       \n",
    "    crop_img = img[mid_y - offset_y:mid_y + offset_y, mid_x - offset_x:mid_x + offset_x]\n",
    "\n",
    "    return crop_img"
   ]
  },
  {
   "cell_type": "code",
   "execution_count": 94,
   "id": "1287b83a-c9a9-480f-a2bc-6b1734979577",
   "metadata": {},
   "outputs": [],
   "source": [
    "for i in os.listdir('Data'):\n",
    "\n",
    "    img_path = 'Data/' + str(i) + '/rgb_images/000.jpg'\n",
    "    save_path = 'Resize_frames/'\n",
    "    \n",
    "    img = cv2.imread(img_path)\n",
    "    h, w, c = img.shape\n",
    "\n",
    "    img = center_crop(img, 1000)\n",
    "    img = cv2.resize(img, (300, 450))\n",
    "\n",
    "    if not os.path.exists(save_path):\n",
    "        os.makedirs(save_path)\n",
    "    \n",
    "    # cv2.imshow(\"Output_Keypoints\", img)\n",
    "    cv2.imwrite(save_path + \"%03d.jpg\" %int(i) , img)\n",
    "    cv2.waitKey(0)\n",
    "    cv2.destroyAllWindows()"
   ]
  }
 ],
 "metadata": {
  "kernelspec": {
   "display_name": "Python 3 (ipykernel)",
   "language": "python",
   "name": "python3"
  },
  "language_info": {
   "codemirror_mode": {
    "name": "ipython",
    "version": 3
   },
   "file_extension": ".py",
   "mimetype": "text/x-python",
   "name": "python",
   "nbconvert_exporter": "python",
   "pygments_lexer": "ipython3",
   "version": "3.8.18"
  }
 },
 "nbformat": 4,
 "nbformat_minor": 5
}
